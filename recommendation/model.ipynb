{
 "cells": [
  {
   "cell_type": "code",
   "execution_count": 10,
   "metadata": {},
   "outputs": [],
   "source": [
    "import pandas as pd\n",
    "import numpy as np\n",
    "from sklearn.preprocessing import StandardScaler\n",
    "from pyclustering.cluster.kmedoids import kmedoids\n",
    "from pyclustering.cluster import cluster_visualizer\n",
    "from pyclustering.utils import calculate_distance_matrix\n",
    "from sklearn.metrics import silhouette_score"
   ]
  },
  {
   "cell_type": "code",
   "execution_count": null,
   "metadata": {},
   "outputs": [],
   "source": [
    "dataset_path = '/home/awesomebaba/Desktop/python/sih/ml_in_sih/recommendation/new.csv'  # Replace with your dataset path\n",
    "df = pd.read_csv(dataset_path)"
   ]
  },
  {
   "cell_type": "code",
   "execution_count": 12,
   "metadata": {},
   "outputs": [],
   "source": [
    "\n",
    "features = ['latitude','longitude','height']"
   ]
  },
  {
   "cell_type": "code",
   "execution_count": 13,
   "metadata": {},
   "outputs": [],
   "source": [
    "X = df[features].values"
   ]
  },
  {
   "cell_type": "code",
   "execution_count": 14,
   "metadata": {},
   "outputs": [],
   "source": [
    "scaler = StandardScaler()\n",
    "X_scaled = scaler.fit_transform(X)"
   ]
  },
  {
   "cell_type": "code",
   "execution_count": null,
   "metadata": {},
   "outputs": [],
   "source": [
    "\n",
    "df_sample = df.sample(300, random_state=42)\n",
    "X_sample = df_sample[features].values\n",
    "X_sample_scaled = scaler.transform(X_sample)"
   ]
  },
  {
   "cell_type": "code",
   "execution_count": 16,
   "metadata": {},
   "outputs": [],
   "source": [
    "#corner_coords = [\n",
    "    #(23.054133, 72.516336),  # Corner 1\n",
    "    #(23.054075, 72.523878),  # Corner 2\n",
    "    #(23.030544, 72.532173),  # Corner 3\n",
    "    #(23.029959, 72.510126)   # Corner 4"
   ]
  },
  {
   "cell_type": "markdown",
   "metadata": {},
   "source": [
    "lat_min, lat_max = df_sample['Latitude'].min(), df_sample['Latitude'].max()\n",
    "lon_min, lon_max = df_sample['Longitude'].min(), df_sample['Longitude'].max()"
   ]
  },
  {
   "cell_type": "code",
   "execution_count": 17,
   "metadata": {},
   "outputs": [],
   "source": [
    "#lat_min = min(corner[0] for corner in corner_coords)\n",
    "#lat_max = max(corner[0] for corner in corner_coords)\n",
    "#lon_min = min(corner[1] for corner in corner_coords)\n",
    "#lon_max = max(corner[1] for corner in corner_coords)"
   ]
  },
  {
   "cell_type": "code",
   "execution_count": null,
   "metadata": {},
   "outputs": [],
   "source": [
    "\n",
    "lat_min, lat_max = df_sample['latitude'].min(), df_sample['latitude'].max()\n",
    "lon_min, lon_max = df_sample['longitude'].min(), df_sample['l0ongitude'].max()"
   ]
  },
  {
   "cell_type": "code",
   "execution_count": 19,
   "metadata": {},
   "outputs": [],
   "source": [
    "lat_intervals = np.linspace(lat_min, lat_max, 4)  # Divide latitude range into 3 intervals\n",
    "lon_intervals = np.linspace(lon_min, lon_max, 4)  # Divide longitude range into 3 intervals"
   ]
  },
  {
   "cell_type": "code",
   "execution_count": 20,
   "metadata": {},
   "outputs": [],
   "source": [
    "medoid_coords = [(lat, lon) for lat in lat_intervals for lon in lon_intervals]\n",
    "medoid_indices = []"
   ]
  },
  {
   "cell_type": "code",
   "execution_count": 21,
   "metadata": {},
   "outputs": [],
   "source": [
    "for lat, lon in medoid_coords:\n",
    "    distances = np.sqrt((df['latitude'] - lat)**2 + (df['longitude'] - lon)**2)\n",
    "    closest_point_idx = distances.idxmin()\n",
    "    medoid_indices.append(closest_point_idx)"
   ]
  },
  {
   "cell_type": "code",
   "execution_count": null,
   "metadata": {},
   "outputs": [],
   "source": [
    "medoid_indices = list(set(medoid_indices))[:6]  # Select up to 10 medoids"
   ]
  },
  {
   "cell_type": "code",
   "execution_count": 23,
   "metadata": {},
   "outputs": [],
   "source": [
    "distance_matrix = calculate_distance_matrix(X_scaled)"
   ]
  },
  {
   "cell_type": "code",
   "execution_count": null,
   "metadata": {},
   "outputs": [],
   "source": [
    "kmedoids_instance = kmedoids(distance_matrix, medoid_indices) # Enable logging to track progress\n",
    "kmedoids_instance.process()"
   ]
  },
  {
   "cell_type": "code",
   "execution_count": null,
   "metadata": {},
   "outputs": [],
   "source": [
    "clusters = kmedoids_instance.get_clusters()\n",
    "medoids = kmedoids_instance.get_medoids()"
   ]
  },
  {
   "cell_type": "code",
   "execution_count": null,
   "metadata": {},
   "outputs": [],
   "source": [
    "labels = np.zeros(len(X_scaled))\n",
    "for cluster_id, cluster_points in enumerate(clusters):\n",
    "    for point in cluster_points:\n",
    "        labels[point] = cluster_id"
   ]
  },
  {
   "cell_type": "code",
   "execution_count": null,
   "metadata": {},
   "outputs": [],
   "source": [
    "silhouette_avg = silhouette_score(X_sample_scaled, labels)\n",
    "print(f\"Silhouette Score: {silhouette_avg}\")\n"
   ]
  },
  {
   "cell_type": "code",
   "execution_count": null,
   "metadata": {},
   "outputs": [],
   "source": [
    "\n",
    "df_sample['Cluster'] = labels.astype(int)\n",
    "df_sample.to_csv('sample_clustered_dataset.csv', index=False)\n",
    "print(\"Clustered sample dataset saved to 'sample_clustered_dataset.csv'\")"
   ]
  }
 ],
 "metadata": {
  "kernelspec": {
   "display_name": "env",
   "language": "python",
   "name": "python3"
  },
  "language_info": {
   "codemirror_mode": {
    "name": "ipython",
    "version": 3
   },
   "file_extension": ".py",
   "mimetype": "text/x-python",
   "name": "python",
   "nbconvert_exporter": "python",
   "pygments_lexer": "ipython3",
   "version": "3.12.3"
  }
 },
 "nbformat": 4,
 "nbformat_minor": 2
}
